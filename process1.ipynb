{
 "cells": [
  {
   "cell_type": "code",
   "execution_count": null,
   "metadata": {},
   "outputs": [],
   "source": []
  },
  {
   "cell_type": "code",
   "execution_count": 76,
   "metadata": {},
   "outputs": [
    {
     "name": "stderr",
     "output_type": "stream",
     "text": [
      "[nltk_data] Downloading package wordnet to C:\\Users\\Mr.\n",
      "[nltk_data]     Luke\\AppData\\Roaming\\nltk_data...\n",
      "[nltk_data]   Package wordnet is already up-to-date!\n"
     ]
    }
   ],
   "source": [
    "import numpy as np\n",
    "import pandas as pd\n",
    "import nltk\n",
    "nltk.download('wordnet')\n",
    "from nltk.tokenize import word_tokenize"
   ]
  },
  {
   "cell_type": "code",
   "execution_count": 77,
   "metadata": {},
   "outputs": [
    {
     "name": "stdout",
     "output_type": "stream",
     "text": [
      "             Id  AcceptedAnswerId  AnswerCount  \\\n",
      "1         25277             25456            3   \n",
      "7         44391             65953           12   \n",
      "20        62999                 0            9   \n",
      "47       138261            138792            9   \n",
      "51       139046            139500            7   \n",
      "...         ...               ...          ...   \n",
      "53339  67746074          67754768            1   \n",
      "53340  67746075                 0            0   \n",
      "53341  67750181                 0            0   \n",
      "53347  67754483                 0            1   \n",
      "53348  67754484                 0            0   \n",
      "\n",
      "                                                                                                                                                                                                                                                                                                                                                                                                                                                                                                                      Body  \\\n",
      "1      <p>There is a <a href=\"http://stackoverflow.uservoice.com/pages/general/suggestions/16644\" rel=\"nofollow noreferrer\">request</a> to make the SO search default to an AND style functionality over the current OR when multiple terms are used.</p>\\n\\n<p>The official response was:</p>\\n\\n<blockquote>\\n  <p>not as simple as it sounds; we use SQL Server 2005's <a href=\"http://msdn.microsoft.com/en-us/library/ms176078%28SQL.90%29.aspx\" rel=\"nofollow noreferrer\">FREETEXT()</a> function, and I can't fi...   \n",
      "7      <p>This is related to <a href=\"https://stackoverflow.com/questions/43324/can-i-put-an-aspnet-session-id-in-a-hidden-form-field\">another question I asked</a>. In summary, I have a special case of a URL where, when a form is POSTed to it, I can't rely on cookies for authentication or to maintain the user's session, but I somehow need to know who they are, and I need to know they're logged in!</p>\\n\\n<p>I think I came up with a solution to my problem, but it needs fleshing out. Here's what I'm ...   \n",
      "20     <p>I’ve been trying to install Ms SQL Server 2005 for over two weeks now, and I’ve finally gotten to the point where the prerequisites all seem to be in place. Unfortunately, every time I try to install SQL Server itself, I get the following message:</p>\\n\\n<p>“The SQL Server service failed to start. For more information, see the SQL Server Books Online topics, \"How to: View SQL Server 2005 Setup Log Files\" and \"Starting SQL Server Manually.\"”</p>\\n\\n<p>The installer then “rolls back” the in...   \n",
      "47                                                                      <p>I am having a table Table1 with columns id1, id2, id3 all the columns are nullable</p>\\n\\n<p>I may enter null or value to all columns in rows.</p>\\n\\n<p>My question is I need to select the rows whose all the column values should not be null.</p>\\n\\n<p>Thanks</p>\\n\\n<hr>\\n\\n<p>There are totally around 300 columns in the table. I can't do the <code>is null</code> property for all the columns in <code>where</code> condition.</p>\\n   \n",
      "51     <p>I need to write code that picks up PGP-encrypted files from an FTP location and processes them. The files will be encrypted with my public key (not that I have one yet). Obviously, I need a PGP library that I can use from within Microsoft Access. Can you recommend one that is easy to use? </p>\\n\\n<p>I'm looking for something that doesn't require a huge amount of PKI knowledge. Ideally, something that will easily generate the one-off private/public key pair, and then have a simple routine ...   \n",
      "...                                                                                                                                                                                                                                                                                                                                                                                                                                                                                                                    ...   \n",
      "53339  <p>I have a webassembly project, and I want to build it with emscripten.</p>\\n<p>I cloned the <a href=\"https://github.com/nothings/stb\" rel=\"nofollow noreferrer\">stbi image header files</a> in my project and then tried to compile everything.</p>\\n<p>My <code>main.c</code> looks like that:</p>\\n<pre><code>#include &quot;stb_image.h&quot;\\n#include &lt;emscripten.h&gt;\\n\\n...\\n\\nEMSCRIPTEN_KEEPALIVE\\nvoid my_func(int test) {\\n    // I need some functions from stbi image\\n    stbi_load_from_mem...   \n",
      "53340  <p><a href=\"https://practice.geeksforgeeks.org/problems/string-modification-1587115621/1/?category%5B%5D=Strings&amp;category%5B%5D=Strings&amp;problemStatus=unsolved&amp;problemType=functional&amp;difficulty%5B%5D=0&amp;page=1&amp;query=category%5B%5DStringsproblemStatusunsolvedproblemTypefunctionaldifficulty%5B%5D0page1category%5B%5DStrings#\" rel=\"nofollow noreferrer\">This is the problem statement</a></p>\\n<p>I don't understand what is the problem with the map function is not as I am expec...   \n",
      "53341  <p>I'm trying to use node-7z in my Electron app to decrypt password protected zip files, but whenever I pass  a password, I get an enoent error. I'm including 7zip-bin and the .7za file is present at the location and when I console.log 7zip-bin.path7za I'm getting a valid exe.\\nIf I extract a zip that does not have any password, there is no issues and I have ran npm install in both my project root and the node modules folder, is there anything else I am missing?</p>\\n<p>Thank you for your he...   \n",
      "53347  <p>I have stumbled over <a href=\"https://www.codesynthesis.com/%7Eboris/blog/2012/09/11/emulating-boost-multi-index-with-std-containers/\" rel=\"nofollow noreferrer\">this</a> article and wanted to try something similar.\\nbut I'm stuck on how to assign the pointer to itself, well to the value <code>map[10].value</code> after it has been created. the code from the article works, but sofar i haven't been beabled to replicate it.</p>\\n<p>the function however does work partially, a values gets inse...   \n",
      "53348                                                                                                                                                                                                                                                                                              <p>What can I do to resolve this problem?</p>\\n<pre><code>#1267 - Illegal mix of collations (utf8mb4_general_ci,COERCIBLE) and (utf8mb4_unicode_ci,COERCIBLE) for operation '&lt;&gt;'\\n</code></pre>\\n<p>Thanks.</p>\\n   \n",
      "\n",
      "                    ClosedDate  CommentCount       CommunityOwnedDate  \\\n",
      "1                          NaN             1                      NaN   \n",
      "7                          NaN             0                      NaN   \n",
      "20                         NaN             4                      NaN   \n",
      "47                         NaN             1  2008-09-26 08:16:31.700   \n",
      "51                         NaN             1                      NaN   \n",
      "...                        ...           ...                      ...   \n",
      "53339                      NaN             0                      NaN   \n",
      "53340  2021-05-28 22:38:42.077             8                      NaN   \n",
      "53341                      NaN             2                      NaN   \n",
      "53347                      NaN             1                      NaN   \n",
      "53348  2021-05-29 18:17:09.747             0                      NaN   \n",
      "\n",
      "                  CreationDate  FavoriteCount         LastActivityDate  \\\n",
      "1      2008-08-24 18:47:16.197              0  2008-11-17 21:49:56.230   \n",
      "7      2008-09-04 18:23:22.093              9  2017-02-27 08:38:31.137   \n",
      "20     2008-09-15 13:45:43.507              1  2015-12-20 20:26:33.750   \n",
      "47     2008-09-26 08:16:31.700              0  2013-05-22 06:45:24.220   \n",
      "51     2008-09-26 12:15:14.317              1  2010-04-01 01:01:08.450   \n",
      "...                        ...            ...                      ...   \n",
      "53339  2021-05-28 22:28:54.143              0  2021-05-29 18:48:35.737   \n",
      "53340  2021-05-28 22:29:39.317              0  2021-05-28 22:50:29.867   \n",
      "53341  2021-05-29 10:19:08.510              0  2021-05-29 11:13:33.853   \n",
      "53347  2021-05-29 18:10:42.630              1  2021-05-29 20:30:50.837   \n",
      "53348  2021-05-29 18:10:45.843              0  2021-05-29 18:10:45.843   \n",
      "\n",
      "                  LastEditDate LastEditorDisplayName  LastEditorUserId  \\\n",
      "1      2008-11-17 21:49:56.247       Kevin Fairchild              3743   \n",
      "7      2017-05-23 11:53:57.677           Josh Hinman                -1   \n",
      "20     2010-01-11 18:11:55.447        Nigel Campbell              4228   \n",
      "47     2013-05-22 06:45:24.220            balaweblog            208809   \n",
      "51                         NaN                   NaN                 0   \n",
      "...                        ...                   ...               ...   \n",
      "53339                      NaN                   NaN                 0   \n",
      "53340  2021-05-28 22:50:29.867                   NaN            701092   \n",
      "53341  2021-05-29 11:13:33.853                   NaN           2969180   \n",
      "53347  2021-05-29 18:19:07.810                   NaN           1825056   \n",
      "53348                      NaN                   NaN                 0   \n",
      "\n",
      "       OwnerUserId  ParentId  PostTypeId  Score  \\\n",
      "1             2134         0           1      3   \n",
      "7             2527         0           1     16   \n",
      "20               0         0           1      8   \n",
      "47           22162         0           1      4   \n",
      "51           21379         0           1      3   \n",
      "...            ...       ...         ...    ...   \n",
      "53339     12243262         0           1      0   \n",
      "53340     15800903         0           1     -3   \n",
      "53341      2969180         0           1      0   \n",
      "53347      1825056         0           1      0   \n",
      "53348     12255973         0           1     -1   \n",
      "\n",
      "                                                        Tags  \\\n",
      "1      <sql-server-2005><search><full-text-search><freetext>   \n",
      "7                            <asp.net><security><encryption>   \n",
      "20      <sql-server><sql-server-2005><installation><service>   \n",
      "47                                     <asp.net><sql-server>   \n",
      "51                    <security><ms-access><encryption><pgp>   \n",
      "...                                                      ...   \n",
      "53339                        <c><linker><header><emscripten>   \n",
      "53340                <c++><string><data-structures><hashmap>   \n",
      "53341                        <javascript><node.js><electron>   \n",
      "53347                                        <c++><pointers>   \n",
      "53348                              <mysql><mysql-error-1267>   \n",
      "\n",
      "                                                                                Title  \\\n",
      "1      Can you perform an AND search of keywords using FREETEXT() on SQL Server 2005?   \n",
      "7                                                    How do I prevent replay attacks?   \n",
      "20                                   Microsoft SQL Server 2005 service fails to start   \n",
      "47                                    Select Query in SQL + All the values in columns   \n",
      "51                    Easiest way to decrypt PGP-encrypted files from VBA (MS Access)   \n",
      "...                                                                               ...   \n",
      "53339    How am I supposed to build an emscripten project with the stb_image headers?   \n",
      "53340                                       why i am getting \"abc\" instead of \"abaca\"   \n",
      "53341                               node-7z enoent error 7zip-bin when using password   \n",
      "53347                     How to assign the pointer of a container element to itself?   \n",
      "53348                                               Illegal mix of collations - MySQL   \n",
      "\n",
      "       ViewCount  \n",
      "1           1189  \n",
      "7          34825  \n",
      "20        106708  \n",
      "47          5570  \n",
      "51         14521  \n",
      "...          ...  \n",
      "53339         12  \n",
      "53340         51  \n",
      "53341         18  \n",
      "53347         53  \n",
      "53348          7  \n",
      "\n",
      "[21402 rows x 20 columns]\n"
     ]
    }
   ],
   "source": [
    "df = pd.read_csv('randomPosts.csv', encoding='utf-8')\n",
    "df = df[df['Body'].notna()]\n",
    "\n",
    "df = df[df['PostTypeId'] == 1]\n",
    "\n",
    "df.head()\n",
    "\n",
    "print(df)\n",
    "\n",
    "dict = df.to_dict('index')\n",
    "\n",
    "\n",
    "# for key in dict:\n",
    "    # dict[key]['words_tokenized'] = word_tokenize(dict[key]['Body'])\n",
    "\n",
    "    "
   ]
  },
  {
   "cell_type": "code",
   "execution_count": 78,
   "metadata": {},
   "outputs": [],
   "source": [
    "def prepare_text_for_lda(text):\n",
    "    tokens = word_tokenize(text)\n",
    "    # tokens = [token for token in tokens if len(token) > 4]\n",
    "    # tokens = [token for token in tokens if token not in en_stop]\n",
    "    # tokens = [get_lemma(token) for token in tokens]\n",
    "    return tokens"
   ]
  },
  {
   "cell_type": "code",
   "execution_count": 79,
   "metadata": {},
   "outputs": [],
   "source": [
    "def removeFirstLastThree(text):\n",
    "    text = text[3:]\n",
    "    # text = text[:3]\n",
    "    text = text[:len(text)-3]\n",
    "    return text"
   ]
  },
  {
   "cell_type": "code",
   "execution_count": 80,
   "metadata": {},
   "outputs": [],
   "source": [
    "import string\n",
    "def toLowerCase(text):\n",
    "    text = [word.lower() for word in text]\n",
    "    return text\n"
   ]
  },
  {
   "cell_type": "code",
   "execution_count": 81,
   "metadata": {},
   "outputs": [],
   "source": [
    "from nltk.corpus import stopwords\n",
    "\n",
    "\n",
    "def removeStopWords(text):\n",
    "    stop_words=set(stopwords.words(\"english\"))\n",
    "    filtered_sent=[]\n",
    "    for w in text:\n",
    "        if w not in stop_words:\n",
    "            filtered_sent.append(w)\n",
    "    return filtered_sent\n"
   ]
  },
  {
   "cell_type": "code",
   "execution_count": 82,
   "metadata": {},
   "outputs": [],
   "source": [
    "from nltk.stem import PorterStemmer\n",
    "from nltk.tokenize import sent_tokenize, word_tokenize\n",
    "\n",
    "def applyPStemmer(text):\n",
    "    ps = PorterStemmer()\n",
    "\n",
    "    stemmed_words=[]\n",
    "    for w in text:\n",
    "        stemmed_words.append(ps.stem(w))\n",
    "\n",
    "    return stemmed_words\n"
   ]
  },
  {
   "cell_type": "code",
   "execution_count": 83,
   "metadata": {},
   "outputs": [],
   "source": [
    "from nltk.tokenize import RegexpTokenizer\n",
    "\n",
    "def applyPStemmer(text):\n",
    "    tokenizer = RegexpTokenizer(r\"\\w+\")\n",
    "    text = tokenizer.tokenize(' '.join(text))\n",
    "    return text"
   ]
  },
  {
   "cell_type": "code",
   "execution_count": 84,
   "metadata": {},
   "outputs": [],
   "source": [
    "\n",
    "# nltk.download('wordnet')\n",
    "from nltk.corpus import wordnet as wn\n",
    "\n",
    "def get_lemma(text):\n",
    "    words = []\n",
    "    for word in text:\n",
    "        lemma = wn.morphy(word)\n",
    "        if (len(word) <= 2 or len(word) >= 15 or word == 'code' or word.isnumeric() or word == 'gt' or word == 'lt' or word =='quot' or word == 'pre' or word == 'amp'):\n",
    "            continue \n",
    "        elif lemma is None or word == lemma:\n",
    "            words.append(word)\n",
    "        else:\n",
    "            words.append(lemma)\n",
    "    return words\n",
    "from nltk.stem.wordnet import WordNetLemmatizer\n",
    "\n",
    "def get_lemma2(word):\n",
    "    return WordNetLemmatizer().lemmatize(word)"
   ]
  },
  {
   "cell_type": "code",
   "execution_count": 85,
   "metadata": {},
   "outputs": [
    {
     "ename": "KeyboardInterrupt",
     "evalue": "",
     "output_type": "error",
     "traceback": [
      "\u001b[1;31m---------------------------------------------------------------------------\u001b[0m",
      "\u001b[1;31mKeyboardInterrupt\u001b[0m                         Traceback (most recent call last)",
      "\u001b[1;32mC:\\Users\\MRE875~1.LUK\\AppData\\Local\\Temp/ipykernel_26868/1000731156.py\u001b[0m in \u001b[0;36m<module>\u001b[1;34m\u001b[0m\n\u001b[0;32m      6\u001b[0m     \u001b[0mtokens\u001b[0m \u001b[1;33m=\u001b[0m \u001b[0mremoveFirstLastThree\u001b[0m\u001b[1;33m(\u001b[0m\u001b[0mtokens\u001b[0m\u001b[1;33m)\u001b[0m\u001b[1;33m\u001b[0m\u001b[1;33m\u001b[0m\u001b[0m\n\u001b[0;32m      7\u001b[0m     \u001b[0mtokens\u001b[0m \u001b[1;33m=\u001b[0m \u001b[0mtoLowerCase\u001b[0m\u001b[1;33m(\u001b[0m\u001b[0mtokens\u001b[0m\u001b[1;33m)\u001b[0m\u001b[1;33m\u001b[0m\u001b[1;33m\u001b[0m\u001b[0m\n\u001b[1;32m----> 8\u001b[1;33m     \u001b[0mtokens\u001b[0m \u001b[1;33m=\u001b[0m \u001b[0mremoveStopWords\u001b[0m\u001b[1;33m(\u001b[0m\u001b[0mtokens\u001b[0m\u001b[1;33m)\u001b[0m\u001b[1;33m\u001b[0m\u001b[1;33m\u001b[0m\u001b[0m\n\u001b[0m\u001b[0;32m      9\u001b[0m     \u001b[0mtokens\u001b[0m \u001b[1;33m=\u001b[0m \u001b[0mapplyPStemmer\u001b[0m\u001b[1;33m(\u001b[0m\u001b[0mtokens\u001b[0m\u001b[1;33m)\u001b[0m\u001b[1;33m\u001b[0m\u001b[1;33m\u001b[0m\u001b[0m\n\u001b[0;32m     10\u001b[0m     \u001b[0mtokens\u001b[0m \u001b[1;33m=\u001b[0m \u001b[0mget_lemma\u001b[0m\u001b[1;33m(\u001b[0m\u001b[0mtokens\u001b[0m\u001b[1;33m)\u001b[0m\u001b[1;33m\u001b[0m\u001b[1;33m\u001b[0m\u001b[0m\n",
      "\u001b[1;32mC:\\Users\\MRE875~1.LUK\\AppData\\Local\\Temp/ipykernel_26868/2386746377.py\u001b[0m in \u001b[0;36mremoveStopWords\u001b[1;34m(text)\u001b[0m\n\u001b[0;32m      3\u001b[0m \u001b[1;33m\u001b[0m\u001b[0m\n\u001b[0;32m      4\u001b[0m \u001b[1;32mdef\u001b[0m \u001b[0mremoveStopWords\u001b[0m\u001b[1;33m(\u001b[0m\u001b[0mtext\u001b[0m\u001b[1;33m)\u001b[0m\u001b[1;33m:\u001b[0m\u001b[1;33m\u001b[0m\u001b[1;33m\u001b[0m\u001b[0m\n\u001b[1;32m----> 5\u001b[1;33m     \u001b[0mstop_words\u001b[0m\u001b[1;33m=\u001b[0m\u001b[0mset\u001b[0m\u001b[1;33m(\u001b[0m\u001b[0mstopwords\u001b[0m\u001b[1;33m.\u001b[0m\u001b[0mwords\u001b[0m\u001b[1;33m(\u001b[0m\u001b[1;34m\"english\"\u001b[0m\u001b[1;33m)\u001b[0m\u001b[1;33m)\u001b[0m\u001b[1;33m\u001b[0m\u001b[1;33m\u001b[0m\u001b[0m\n\u001b[0m\u001b[0;32m      6\u001b[0m     \u001b[0mfiltered_sent\u001b[0m\u001b[1;33m=\u001b[0m\u001b[1;33m[\u001b[0m\u001b[1;33m]\u001b[0m\u001b[1;33m\u001b[0m\u001b[1;33m\u001b[0m\u001b[0m\n\u001b[0;32m      7\u001b[0m     \u001b[1;32mfor\u001b[0m \u001b[0mw\u001b[0m \u001b[1;32min\u001b[0m \u001b[0mtext\u001b[0m\u001b[1;33m:\u001b[0m\u001b[1;33m\u001b[0m\u001b[1;33m\u001b[0m\u001b[0m\n",
      "\u001b[1;32mD:\\miniconda3\\lib\\site-packages\\nltk\\corpus\\reader\\wordlist.py\u001b[0m in \u001b[0;36mwords\u001b[1;34m(self, fileids, ignore_lines_startswith)\u001b[0m\n\u001b[0;32m     19\u001b[0m         return [\n\u001b[0;32m     20\u001b[0m             \u001b[0mline\u001b[0m\u001b[1;33m\u001b[0m\u001b[1;33m\u001b[0m\u001b[0m\n\u001b[1;32m---> 21\u001b[1;33m             \u001b[1;32mfor\u001b[0m \u001b[0mline\u001b[0m \u001b[1;32min\u001b[0m \u001b[0mline_tokenize\u001b[0m\u001b[1;33m(\u001b[0m\u001b[0mself\u001b[0m\u001b[1;33m.\u001b[0m\u001b[0mraw\u001b[0m\u001b[1;33m(\u001b[0m\u001b[0mfileids\u001b[0m\u001b[1;33m)\u001b[0m\u001b[1;33m)\u001b[0m\u001b[1;33m\u001b[0m\u001b[1;33m\u001b[0m\u001b[0m\n\u001b[0m\u001b[0;32m     22\u001b[0m             \u001b[1;32mif\u001b[0m \u001b[1;32mnot\u001b[0m \u001b[0mline\u001b[0m\u001b[1;33m.\u001b[0m\u001b[0mstartswith\u001b[0m\u001b[1;33m(\u001b[0m\u001b[0mignore_lines_startswith\u001b[0m\u001b[1;33m)\u001b[0m\u001b[1;33m\u001b[0m\u001b[1;33m\u001b[0m\u001b[0m\n\u001b[0;32m     23\u001b[0m         ]\n",
      "\u001b[1;32mD:\\miniconda3\\lib\\site-packages\\nltk\\corpus\\reader\\api.py\u001b[0m in \u001b[0;36mraw\u001b[1;34m(self, fileids)\u001b[0m\n\u001b[0;32m    215\u001b[0m         \u001b[0mcontents\u001b[0m \u001b[1;33m=\u001b[0m \u001b[1;33m[\u001b[0m\u001b[1;33m]\u001b[0m\u001b[1;33m\u001b[0m\u001b[1;33m\u001b[0m\u001b[0m\n\u001b[0;32m    216\u001b[0m         \u001b[1;32mfor\u001b[0m \u001b[0mf\u001b[0m \u001b[1;32min\u001b[0m \u001b[0mfileids\u001b[0m\u001b[1;33m:\u001b[0m\u001b[1;33m\u001b[0m\u001b[1;33m\u001b[0m\u001b[0m\n\u001b[1;32m--> 217\u001b[1;33m             \u001b[1;32mwith\u001b[0m \u001b[0mself\u001b[0m\u001b[1;33m.\u001b[0m\u001b[0mopen\u001b[0m\u001b[1;33m(\u001b[0m\u001b[0mf\u001b[0m\u001b[1;33m)\u001b[0m \u001b[1;32mas\u001b[0m \u001b[0mfp\u001b[0m\u001b[1;33m:\u001b[0m\u001b[1;33m\u001b[0m\u001b[1;33m\u001b[0m\u001b[0m\n\u001b[0m\u001b[0;32m    218\u001b[0m                 \u001b[0mcontents\u001b[0m\u001b[1;33m.\u001b[0m\u001b[0mappend\u001b[0m\u001b[1;33m(\u001b[0m\u001b[0mfp\u001b[0m\u001b[1;33m.\u001b[0m\u001b[0mread\u001b[0m\u001b[1;33m(\u001b[0m\u001b[1;33m)\u001b[0m\u001b[1;33m)\u001b[0m\u001b[1;33m\u001b[0m\u001b[1;33m\u001b[0m\u001b[0m\n\u001b[0;32m    219\u001b[0m         \u001b[1;32mreturn\u001b[0m \u001b[0mconcat\u001b[0m\u001b[1;33m(\u001b[0m\u001b[0mcontents\u001b[0m\u001b[1;33m)\u001b[0m\u001b[1;33m\u001b[0m\u001b[1;33m\u001b[0m\u001b[0m\n",
      "\u001b[1;32mD:\\miniconda3\\lib\\site-packages\\nltk\\corpus\\reader\\api.py\u001b[0m in \u001b[0;36mopen\u001b[1;34m(self, file)\u001b[0m\n\u001b[0;32m    228\u001b[0m         \"\"\"\n\u001b[0;32m    229\u001b[0m         \u001b[0mencoding\u001b[0m \u001b[1;33m=\u001b[0m \u001b[0mself\u001b[0m\u001b[1;33m.\u001b[0m\u001b[0mencoding\u001b[0m\u001b[1;33m(\u001b[0m\u001b[0mfile\u001b[0m\u001b[1;33m)\u001b[0m\u001b[1;33m\u001b[0m\u001b[1;33m\u001b[0m\u001b[0m\n\u001b[1;32m--> 230\u001b[1;33m         \u001b[0mstream\u001b[0m \u001b[1;33m=\u001b[0m \u001b[0mself\u001b[0m\u001b[1;33m.\u001b[0m\u001b[0m_root\u001b[0m\u001b[1;33m.\u001b[0m\u001b[0mjoin\u001b[0m\u001b[1;33m(\u001b[0m\u001b[0mfile\u001b[0m\u001b[1;33m)\u001b[0m\u001b[1;33m.\u001b[0m\u001b[0mopen\u001b[0m\u001b[1;33m(\u001b[0m\u001b[0mencoding\u001b[0m\u001b[1;33m)\u001b[0m\u001b[1;33m\u001b[0m\u001b[1;33m\u001b[0m\u001b[0m\n\u001b[0m\u001b[0;32m    231\u001b[0m         \u001b[1;32mreturn\u001b[0m \u001b[0mstream\u001b[0m\u001b[1;33m\u001b[0m\u001b[1;33m\u001b[0m\u001b[0m\n\u001b[0;32m    232\u001b[0m \u001b[1;33m\u001b[0m\u001b[0m\n",
      "\u001b[1;32mD:\\miniconda3\\lib\\site-packages\\nltk\\data.py\u001b[0m in \u001b[0;36mjoin\u001b[1;34m(self, fileid)\u001b[0m\n\u001b[0;32m    332\u001b[0m     \u001b[1;32mdef\u001b[0m \u001b[0mjoin\u001b[0m\u001b[1;33m(\u001b[0m\u001b[0mself\u001b[0m\u001b[1;33m,\u001b[0m \u001b[0mfileid\u001b[0m\u001b[1;33m)\u001b[0m\u001b[1;33m:\u001b[0m\u001b[1;33m\u001b[0m\u001b[1;33m\u001b[0m\u001b[0m\n\u001b[0;32m    333\u001b[0m         \u001b[0m_path\u001b[0m \u001b[1;33m=\u001b[0m \u001b[0mos\u001b[0m\u001b[1;33m.\u001b[0m\u001b[0mpath\u001b[0m\u001b[1;33m.\u001b[0m\u001b[0mjoin\u001b[0m\u001b[1;33m(\u001b[0m\u001b[0mself\u001b[0m\u001b[1;33m.\u001b[0m\u001b[0m_path\u001b[0m\u001b[1;33m,\u001b[0m \u001b[0mfileid\u001b[0m\u001b[1;33m)\u001b[0m\u001b[1;33m\u001b[0m\u001b[1;33m\u001b[0m\u001b[0m\n\u001b[1;32m--> 334\u001b[1;33m         \u001b[1;32mreturn\u001b[0m \u001b[0mFileSystemPathPointer\u001b[0m\u001b[1;33m(\u001b[0m\u001b[0m_path\u001b[0m\u001b[1;33m)\u001b[0m\u001b[1;33m\u001b[0m\u001b[1;33m\u001b[0m\u001b[0m\n\u001b[0m\u001b[0;32m    335\u001b[0m \u001b[1;33m\u001b[0m\u001b[0m\n\u001b[0;32m    336\u001b[0m     \u001b[1;32mdef\u001b[0m \u001b[0m__repr__\u001b[0m\u001b[1;33m(\u001b[0m\u001b[0mself\u001b[0m\u001b[1;33m)\u001b[0m\u001b[1;33m:\u001b[0m\u001b[1;33m\u001b[0m\u001b[1;33m\u001b[0m\u001b[0m\n",
      "\u001b[1;32mD:\\miniconda3\\lib\\site-packages\\nltk\\compat.py\u001b[0m in \u001b[0;36m_decorator\u001b[1;34m(*args, **kwargs)\u001b[0m\n\u001b[0;32m     39\u001b[0m     \u001b[1;32mdef\u001b[0m \u001b[0m_decorator\u001b[0m\u001b[1;33m(\u001b[0m\u001b[1;33m*\u001b[0m\u001b[0margs\u001b[0m\u001b[1;33m,\u001b[0m \u001b[1;33m**\u001b[0m\u001b[0mkwargs\u001b[0m\u001b[1;33m)\u001b[0m\u001b[1;33m:\u001b[0m\u001b[1;33m\u001b[0m\u001b[1;33m\u001b[0m\u001b[0m\n\u001b[0;32m     40\u001b[0m         \u001b[0margs\u001b[0m \u001b[1;33m=\u001b[0m \u001b[1;33m(\u001b[0m\u001b[0margs\u001b[0m\u001b[1;33m[\u001b[0m\u001b[1;36m0\u001b[0m\u001b[1;33m]\u001b[0m\u001b[1;33m,\u001b[0m \u001b[0madd_py3_data\u001b[0m\u001b[1;33m(\u001b[0m\u001b[0margs\u001b[0m\u001b[1;33m[\u001b[0m\u001b[1;36m1\u001b[0m\u001b[1;33m]\u001b[0m\u001b[1;33m)\u001b[0m\u001b[1;33m)\u001b[0m \u001b[1;33m+\u001b[0m \u001b[0margs\u001b[0m\u001b[1;33m[\u001b[0m\u001b[1;36m2\u001b[0m\u001b[1;33m:\u001b[0m\u001b[1;33m]\u001b[0m\u001b[1;33m\u001b[0m\u001b[1;33m\u001b[0m\u001b[0m\n\u001b[1;32m---> 41\u001b[1;33m         \u001b[1;32mreturn\u001b[0m \u001b[0minit_func\u001b[0m\u001b[1;33m(\u001b[0m\u001b[1;33m*\u001b[0m\u001b[0margs\u001b[0m\u001b[1;33m,\u001b[0m \u001b[1;33m**\u001b[0m\u001b[0mkwargs\u001b[0m\u001b[1;33m)\u001b[0m\u001b[1;33m\u001b[0m\u001b[1;33m\u001b[0m\u001b[0m\n\u001b[0m\u001b[0;32m     42\u001b[0m \u001b[1;33m\u001b[0m\u001b[0m\n\u001b[0;32m     43\u001b[0m     \u001b[1;32mreturn\u001b[0m \u001b[0mwraps\u001b[0m\u001b[1;33m(\u001b[0m\u001b[0minit_func\u001b[0m\u001b[1;33m)\u001b[0m\u001b[1;33m(\u001b[0m\u001b[0m_decorator\u001b[0m\u001b[1;33m)\u001b[0m\u001b[1;33m\u001b[0m\u001b[1;33m\u001b[0m\u001b[0m\n",
      "\u001b[1;32mD:\\miniconda3\\lib\\site-packages\\nltk\\data.py\u001b[0m in \u001b[0;36m__init__\u001b[1;34m(self, _path)\u001b[0m\n\u001b[0;32m    309\u001b[0m \u001b[1;33m\u001b[0m\u001b[0m\n\u001b[0;32m    310\u001b[0m         \u001b[0m_path\u001b[0m \u001b[1;33m=\u001b[0m \u001b[0mos\u001b[0m\u001b[1;33m.\u001b[0m\u001b[0mpath\u001b[0m\u001b[1;33m.\u001b[0m\u001b[0mabspath\u001b[0m\u001b[1;33m(\u001b[0m\u001b[0m_path\u001b[0m\u001b[1;33m)\u001b[0m\u001b[1;33m\u001b[0m\u001b[1;33m\u001b[0m\u001b[0m\n\u001b[1;32m--> 311\u001b[1;33m         \u001b[1;32mif\u001b[0m \u001b[1;32mnot\u001b[0m \u001b[0mos\u001b[0m\u001b[1;33m.\u001b[0m\u001b[0mpath\u001b[0m\u001b[1;33m.\u001b[0m\u001b[0mexists\u001b[0m\u001b[1;33m(\u001b[0m\u001b[0m_path\u001b[0m\u001b[1;33m)\u001b[0m\u001b[1;33m:\u001b[0m\u001b[1;33m\u001b[0m\u001b[1;33m\u001b[0m\u001b[0m\n\u001b[0m\u001b[0;32m    312\u001b[0m             \u001b[1;32mraise\u001b[0m \u001b[0mOSError\u001b[0m\u001b[1;33m(\u001b[0m\u001b[1;34m\"No such file or directory: %r\"\u001b[0m \u001b[1;33m%\u001b[0m \u001b[0m_path\u001b[0m\u001b[1;33m)\u001b[0m\u001b[1;33m\u001b[0m\u001b[1;33m\u001b[0m\u001b[0m\n\u001b[0;32m    313\u001b[0m         \u001b[0mself\u001b[0m\u001b[1;33m.\u001b[0m\u001b[0m_path\u001b[0m \u001b[1;33m=\u001b[0m \u001b[0m_path\u001b[0m\u001b[1;33m\u001b[0m\u001b[1;33m\u001b[0m\u001b[0m\n",
      "\u001b[1;32mD:\\miniconda3\\lib\\genericpath.py\u001b[0m in \u001b[0;36mexists\u001b[1;34m(path)\u001b[0m\n\u001b[0;32m     17\u001b[0m     \u001b[1;34m\"\"\"Test whether a path exists.  Returns False for broken symbolic links\"\"\"\u001b[0m\u001b[1;33m\u001b[0m\u001b[1;33m\u001b[0m\u001b[0m\n\u001b[0;32m     18\u001b[0m     \u001b[1;32mtry\u001b[0m\u001b[1;33m:\u001b[0m\u001b[1;33m\u001b[0m\u001b[1;33m\u001b[0m\u001b[0m\n\u001b[1;32m---> 19\u001b[1;33m         \u001b[0mos\u001b[0m\u001b[1;33m.\u001b[0m\u001b[0mstat\u001b[0m\u001b[1;33m(\u001b[0m\u001b[0mpath\u001b[0m\u001b[1;33m)\u001b[0m\u001b[1;33m\u001b[0m\u001b[1;33m\u001b[0m\u001b[0m\n\u001b[0m\u001b[0;32m     20\u001b[0m     \u001b[1;32mexcept\u001b[0m \u001b[1;33m(\u001b[0m\u001b[0mOSError\u001b[0m\u001b[1;33m,\u001b[0m \u001b[0mValueError\u001b[0m\u001b[1;33m)\u001b[0m\u001b[1;33m:\u001b[0m\u001b[1;33m\u001b[0m\u001b[1;33m\u001b[0m\u001b[0m\n\u001b[0;32m     21\u001b[0m         \u001b[1;32mreturn\u001b[0m \u001b[1;32mFalse\u001b[0m\u001b[1;33m\u001b[0m\u001b[1;33m\u001b[0m\u001b[0m\n",
      "\u001b[1;31mKeyboardInterrupt\u001b[0m: "
     ]
    }
   ],
   "source": [
    "import random\n",
    "text_tokens = []\n",
    "i = 0\n",
    "for key in dict:\n",
    "    tokens = prepare_text_for_lda(dict[key]['Body'])\n",
    "    tokens = removeFirstLastThree(tokens)\n",
    "    tokens = toLowerCase(tokens)\n",
    "    tokens = removeStopWords(tokens)\n",
    "    tokens = applyPStemmer(tokens)\n",
    "    tokens = get_lemma(tokens)\n",
    "    # tokens = removeSymbols(tokens)\n",
    "    \n",
    "\n",
    "    # if i < 50:\n",
    "        # print(tokens)\n",
    "    text_tokens.append(tokens)\n",
    "    i += 1"
   ]
  },
  {
   "cell_type": "code",
   "execution_count": null,
   "metadata": {},
   "outputs": [
    {
     "name": "stdout",
     "output_type": "stream",
     "text": [
      "Dictionary(118613 unique tokens: ['28sql', 'aspx', 'blockquote', 'com', 'current']...)\n"
     ]
    }
   ],
   "source": [
    "import gensim\n",
    "from gensim import corpora\n",
    "dict_STF = corpora.Dictionary(text_tokens)\n",
    "\n",
    "dictionary = corpora.Dictionary(text_tokens) \n",
    "corpus = [dictionary.doc2bow(text) for text in text_tokens]\n",
    "\n",
    "import pickle\n",
    "pickle.dump(corpus, open('corpus.pkl', 'wb'))\n",
    "dictionary.save('dictionary.gensim')\n",
    "\n",
    "print(dict_STF)"
   ]
  },
  {
   "cell_type": "code",
   "execution_count": null,
   "metadata": {},
   "outputs": [],
   "source": [
    "\n",
    "NUM_TOPICS = 25\n",
    "#ldamodel = gensim.models.ldamodel.LdaModel(corpus, num_topics = NUM_TOPICS, id2word=dictionary, passes=15)\n",
    "\n",
    "#ldamodel.save('models/lda_model.model')\n",
    "\n",
    "#topics = ldamodel.print_topics(num_words=2)\n"
   ]
  },
  {
   "cell_type": "code",
   "execution_count": null,
   "metadata": {},
   "outputs": [
    {
     "name": "stdout",
     "output_type": "stream",
     "text": [
      "(12, '0.192*\"self\" + 0.026*\"let\"')\n",
      "(8, '0.118*\"file\" + 0.038*\"line\"')\n",
      "(17, '0.115*\"image\" + 0.046*\"category\"')\n",
      "(16, '0.107*\"div\" + 0.103*\"class\"')\n",
      "(10, '0.084*\"string\" + 0.075*\"public\"')\n",
      "(22, '0.058*\"int\" + 0.034*\"array\"')\n",
      "(23, '0.237*\"app\" + 0.076*\"tag\"')\n",
      "(15, '0.037*\"version\" + 0.030*\"build\"')\n",
      "(14, '0.139*\"property\" + 0.047*\"binding\"')\n",
      "(7, '0.067*\"function\" + 0.057*\"var\"')\n",
      "(24, '0.022*\"strong\" + 0.019*\"like\"')\n",
      "(19, '0.102*\"http\" + 0.073*\"com\"')\n",
      "(18, '0.072*\"stack\" + 0.070*\"http\"')\n",
      "(4, '0.032*\"server\" + 0.028*\"test\"')\n",
      "(11, '0.192*\"android\" + 0.049*\"view\"')\n",
      "(21, '0.115*\"model\" + 0.079*\"date\"')\n",
      "(9, '0.033*\"task\" + 0.032*\"system\"')\n",
      "(6, '0.048*\"row\" + 0.046*\"list\"')\n",
      "(13, '0.066*\"product\" + 0.059*\"query\"')\n",
      "(1, '0.065*\"width\" + 0.063*\"color\"')\n"
     ]
    }
   ],
   "source": [
    "for topic in topics:\n",
    "    print(topic)"
   ]
  },
  {
   "cell_type": "code",
   "execution_count": null,
   "metadata": {},
   "outputs": [
    {
     "name": "stdout",
     "output_type": "stream",
     "text": [
      "        Id  AcceptedAnswerId  AnswerCount  \\\n",
      "51  139046            139500            7   \n",
      "\n",
      "                                                                                                                                                                                                                                                                                                                                                                                                                                                                                                                   Body  \\\n",
      "51  <p>I need to write code that picks up PGP-encrypted files from an FTP location and processes them. The files will be encrypted with my public key (not that I have one yet). Obviously, I need a PGP library that I can use from within Microsoft Access. Can you recommend one that is easy to use? </p>\\n\\n<p>I'm looking for something that doesn't require a huge amount of PKI knowledge. Ideally, something that will easily generate the one-off private/public key pair, and then have a simple routine ...   \n",
      "\n",
      "   ClosedDate  CommentCount CommunityOwnedDate             CreationDate  \\\n",
      "51        NaN             1                NaN  2008-09-26 12:15:14.317   \n",
      "\n",
      "    FavoriteCount         LastActivityDate LastEditDate LastEditorDisplayName  \\\n",
      "51              1  2010-04-01 01:01:08.450          NaN                   NaN   \n",
      "\n",
      "    LastEditorUserId  OwnerUserId  ParentId  PostTypeId  Score  \\\n",
      "51                 0        21379         0           1      3   \n",
      "\n",
      "                                      Tags  \\\n",
      "51  <security><ms-access><encryption><pgp>   \n",
      "\n",
      "                                                              Title  ViewCount  \n",
      "51  Easiest way to decrypt PGP-encrypted files from VBA (MS Access)      14521  \n",
      "['resolve', 'problem', 'illegal', 'mix', 'collation', 'coercible', 'coercible', 'operation', 'thanks']\n",
      "['video', 'redirect', 'back', 'homepage']\n",
      "[(148, 1), (835, 1), (1986, 1), (2104, 1)]\n",
      "[(17, 0.215677), (19, 0.60027546)]\n"
     ]
    }
   ],
   "source": [
    "pd.options.display.max_colwidth = 500\n",
    "new_doc = df.iloc[[4]]\n",
    "print(new_doc)\n",
    "\n",
    "text = 'when i click on a video, it is redirecting back to homepage, youtube clone'\n",
    "print(tokens)\n",
    "\n",
    "# tokens = prepare_text_for_lda(dict[key]['Body'])\n",
    "tokens = prepare_text_for_lda(text)\n",
    "tokens = removeFirstLastThree(tokens)\n",
    "tokens = toLowerCase(tokens)\n",
    "tokens = removeStopWords(tokens)\n",
    "tokens = applyPStemmer(tokens)\n",
    "tokens = get_lemma(tokens)\n",
    "\n",
    "print(tokens)\n",
    "\n",
    "\n",
    "new_doc_bow = dictionary.doc2bow(tokens)\n",
    "print(new_doc_bow)\n",
    "print(ldamodel.get_document_topics(new_doc_bow))\n",
    "# new_doc_bow = dictionary.doc2bow(new_doc)\n",
    "# print(new_doc_bow)\n",
    "# print(ldamodel.get_document_topics(new_doc_bow))"
   ]
  },
  {
   "cell_type": "code",
   "execution_count": null,
   "metadata": {},
   "outputs": [
    {
     "name": "stdout",
     "output_type": "stream",
     "text": [
      "[(17, 0.21568903), (19, 0.60026336)]\n",
      "\n",
      "\n",
      "(19, '0.102*\"http\" + 0.073*\"com\"')\n",
      "(18, '0.072*\"stack\" + 0.070*\"http\"')\n",
      "(17, '0.115*\"image\" + 0.046*\"category\"')\n",
      "(1, '0.065*\"width\" + 0.063*\"color\"')\n",
      "(21, '0.115*\"model\" + 0.079*\"date\"')\n",
      "(9, '0.033*\"task\" + 0.032*\"system\"')\n",
      "(16, '0.107*\"div\" + 0.103*\"class\"')\n",
      "(8, '0.118*\"file\" + 0.038*\"line\"')\n",
      "(20, '0.057*\"user\" + 0.028*\"request\"')\n",
      "(4, '0.032*\"server\" + 0.028*\"test\"')\n",
      "(23, '0.237*\"app\" + 0.076*\"tag\"')\n",
      "(2, '0.091*\"name\" + 0.062*\"type\"')\n",
      "(0, '0.100*\"php\" + 0.074*\"lib\"')\n",
      "(10, '0.084*\"string\" + 0.075*\"public\"')\n",
      "(22, '0.058*\"int\" + 0.034*\"array\"')\n",
      "(14, '0.139*\"property\" + 0.047*\"binding\"')\n",
      "(11, '0.192*\"android\" + 0.049*\"view\"')\n",
      "(24, '0.022*\"strong\" + 0.019*\"like\"')\n",
      "(15, '0.037*\"version\" + 0.030*\"build\"')\n",
      "(5, '0.041*\"event\" + 0.034*\"child\"')\n"
     ]
    }
   ],
   "source": [
    "loaded_model = gensim.models.ldamodel.LdaModel.load('models/lda_model.model')\n",
    "print(loaded_model.get_document_topics(new_doc_bow))\n",
    "\n",
    "print('\\n')\n",
    "\n",
    "topics = loaded_model.print_topics(num_words=2)\n",
    "for topic in topics:\n",
    "    print(topic)\n"
   ]
  },
  {
   "cell_type": "code",
   "execution_count": 96,
   "metadata": {},
   "outputs": [
    {
     "name": "stdout",
     "output_type": "stream",
     "text": [
      "['http, com', 'Web development']\n",
      "['stack, http', 'Web development']\n",
      "['image, category', 'Types of images']\n",
      "['width, color', 'Element and window sizing']\n",
      "['model, date', 'Models']\n",
      "['task, system', 'System task management']\n",
      "['div, class', 'HTML elements']\n",
      "['file, line', 'Files']\n",
      "['user, request', 'User requests and authentication']\n",
      "['server, test', 'Server testing']\n",
      "['app, tag', 'Tags']\n",
      "['name, type', 'Variable names and types']\n",
      "['php, lib', 'PHP and related libraries']\n",
      "['string, public', 'JAVA developement']\n",
      "['int, array', 'Variable names and types']\n",
      "['property, binding', 'Static and dynamic binding']\n",
      "['android, view', 'Android view class']\n",
      "['strong, like', 'HTML elements']\n",
      "['version, build', 'Verson and builds']\n",
      "['event, child', 'Events']\n"
     ]
    }
   ],
   "source": [
    "import re\n",
    "\n",
    "word_pairs_cleaned = []\n",
    "list_of_keywords = []\n",
    "\n",
    "#Manually decide topic(s) for each of the word pairs identified using the LDA model\n",
    "for topic in topics:\n",
    "    str = topic[1]\n",
    "    # str = str.replace('+', ', ')\n",
    "\n",
    "\n",
    "\n",
    "\n",
    "\n",
    "    regex = re.compile('[^a-zA-Z ]')\n",
    "    #str = ''.join([i for i in topic[1] if not i.isdigit()])\n",
    "\n",
    "    str = regex.sub('', topic[1])\n",
    "    str = str.replace('  ', ', ')\n",
    "\n",
    "    word_pairs_cleaned.append(str)\n",
    "\n",
    "\n",
    "list_of_keywords.append([word_pairs_cleaned[0], 'Web development'])\n",
    "list_of_keywords.append([word_pairs_cleaned[1], 'Web development'])\n",
    "list_of_keywords.append([word_pairs_cleaned[2], 'Types of images'])\n",
    "list_of_keywords.append([word_pairs_cleaned[3], 'Element and window sizing'])\n",
    "list_of_keywords.append([word_pairs_cleaned[4], 'Models'])\n",
    "list_of_keywords.append([word_pairs_cleaned[5], 'System task management'])\n",
    "list_of_keywords.append([word_pairs_cleaned[6], 'HTML elements'])\n",
    "list_of_keywords.append([word_pairs_cleaned[7], 'Files'])\n",
    "list_of_keywords.append([word_pairs_cleaned[8], 'User requests and authentication'])\n",
    "list_of_keywords.append([word_pairs_cleaned[9], 'Server testing'])\n",
    "list_of_keywords.append([word_pairs_cleaned[10], 'Tags'])\n",
    "list_of_keywords.append([word_pairs_cleaned[11], 'Variable names and types'])\n",
    "list_of_keywords.append([word_pairs_cleaned[12], 'PHP and related libraries'])\n",
    "list_of_keywords.append([word_pairs_cleaned[13], 'JAVA developement'])\n",
    "list_of_keywords.append([word_pairs_cleaned[14], 'Variable names and types'])\n",
    "list_of_keywords.append([word_pairs_cleaned[15], 'Static and dynamic binding'])\n",
    "list_of_keywords.append([word_pairs_cleaned[16], 'Android view class'])\n",
    "list_of_keywords.append([word_pairs_cleaned[17], 'HTML elements'])\n",
    "list_of_keywords.append([word_pairs_cleaned[18], 'Verson and builds'])\n",
    "list_of_keywords.append([word_pairs_cleaned[19], 'Events'])\n",
    "\n",
    "\n",
    "for kw in list_of_keywords:\n",
    "    print(kw)\n",
    "\n"
   ]
  }
 ],
 "metadata": {
  "interpreter": {
   "hash": "0f67f7bbca0598e70e2d2a4cdc15d594b3c82a687c6c3ba15a4a1d5e50cae4bd"
  },
  "kernelspec": {
   "display_name": "Python 3.9.8 64-bit (windows store)",
   "language": "python",
   "name": "python3"
  },
  "language_info": {
   "codemirror_mode": {
    "name": "ipython",
    "version": 3
   },
   "file_extension": ".py",
   "mimetype": "text/x-python",
   "name": "python",
   "nbconvert_exporter": "python",
   "pygments_lexer": "ipython3",
   "version": "3.9.5"
  },
  "orig_nbformat": 4
 },
 "nbformat": 4,
 "nbformat_minor": 2
}
